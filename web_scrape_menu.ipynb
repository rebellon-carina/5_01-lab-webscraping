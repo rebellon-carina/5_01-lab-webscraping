{
 "cells": [
  {
   "cell_type": "code",
   "execution_count": 106,
   "metadata": {},
   "outputs": [],
   "source": [
    "# Import librariesi\n",
    "from bs4 import BeautifulSoup\n",
    "import requests\n",
    "\n",
    "import pandas as pd"
   ]
  },
  {
   "cell_type": "markdown",
   "metadata": {},
   "source": [
    "### Step 1: Create a soup object from the home page"
   ]
  },
  {
   "cell_type": "code",
   "execution_count": 87,
   "metadata": {},
   "outputs": [],
   "source": [
    "#define the url and initiate the request\n",
    "ga_url = \"https://pages.git.generalassemb.ly/rldaggie/for-scraping/\"\n",
    "req_main = requests.get(ga_url)"
   ]
  },
  {
   "cell_type": "markdown",
   "metadata": {},
   "source": [
    "### Step 2: Scrape the home page soup for every restaurant\n",
    "\n",
    "Note: Your best bet is to create a list of dictionaries, one for each restaurant. Each dictionary contains the restaurant's name and path from the `href`. The result of your scrape should look something like this:\n",
    "\n",
    "```python\n",
    "restaurants = [\n",
    "    {'name': 'A&W Restaurants', 'href': 'restaurants/1.html'}, \n",
    "    {'name': \"Applebee's\", 'href': 'restaurants/2.html'},\n",
    "    ...\n",
    "]\n",
    "```"
   ]
  },
  {
   "cell_type": "code",
   "execution_count": 88,
   "metadata": {},
   "outputs": [
    {
     "data": {
      "text/plain": [
       "200"
      ]
     },
     "execution_count": 88,
     "metadata": {},
     "output_type": "execute_result"
    }
   ],
   "source": [
    "#status code of our request \n",
    "req_main.status_code"
   ]
  },
  {
   "cell_type": "markdown",
   "metadata": {},
   "source": [
    "### Step 3: Using the `href`, scrape each restaurant's page and create a single list of food dictionaries.\n",
    "\n",
    "Your list of foods should look something like this:\n",
    "```python\n",
    "foods = [\n",
    "    {\n",
    "        'calories': '0',\n",
    "        'carbs': '0',\n",
    "        'category': 'Drinks',\n",
    "        'fat': '0',\n",
    "        'name': 'A&W® Diet Root Beer',\n",
    "        'restaurant': 'A&W Restaurants'\n",
    "    },\n",
    "    {\n",
    "        'calories': '0',\n",
    "        'carbs': '0',\n",
    "        'category': 'Drinks',\n",
    "        'fat': '0',\n",
    "        'name': 'A&W® Diet Root Beer',\n",
    "        'restaurant': 'A&W Restaurants'\n",
    "    },\n",
    "    ...\n",
    "]\n",
    "```\n",
    "\n",
    "**Note**: Remove extra white space from each category"
   ]
  },
  {
   "cell_type": "code",
   "execution_count": 89,
   "metadata": {},
   "outputs": [],
   "source": [
    "#our list of food\n",
    "foods=[]"
   ]
  },
  {
   "cell_type": "markdown",
   "metadata": {},
   "source": [
    "### Step 4: Create a pandas DataFrame from your list of foods\n",
    "\n",
    "**Note**: Your DataFrame should have 5,131 rows"
   ]
  },
  {
   "cell_type": "code",
   "execution_count": 108,
   "metadata": {},
   "outputs": [],
   "source": [
    "def get_menu(url, restaurant):\n",
    "    \n",
    "    '''pass the url (to parse) and the restaurant name needed for the list only'''\n",
    "    \n",
    "    my_req = requests.get(url, headers={'User-Agent': 'Custom'})\n",
    "    \n",
    "    if (my_req.status_code == 200):\n",
    "        \n",
    "        print(\"Processing..\", url)\n",
    "        my_soup = BeautifulSoup(my_req.text, 'lxml')\n",
    "\n",
    "        table = my_soup.find('table', {\"class\":\"table\"})\n",
    "\n",
    "        tbody = table.find('tbody')\n",
    "        all_trs = tbody.find_all('tr')\n",
    "\n",
    "        for tr in all_trs:\n",
    "            td = tr.find_all('td')\n",
    "            name = td[0].text\n",
    "            category = td[1].text\n",
    "            calories = td[2].text\n",
    "            fats = td[3].text\n",
    "            carbs = td[4].text\n",
    "            rest_dic = {\"restaurant\": restaurant, \"name\": name,  \"category\": category, \n",
    "                                \"calories\" : calories,\n",
    "                                \"fats\": fats,\n",
    "                                \"carbs\": carbs\n",
    "                               }\n",
    "            foods.append(rest_dic)\n",
    "    else:\n",
    "        print(\"Error in getting request:\", url)"
   ]
  },
  {
   "cell_type": "code",
   "execution_count": 109,
   "metadata": {},
   "outputs": [
    {
     "name": "stdout",
     "output_type": "stream",
     "text": [
      "Processing.. https://pages.git.generalassemb.ly/rldaggie/for-scraping/restaurants/1.html\n",
      "Processing.. https://pages.git.generalassemb.ly/rldaggie/for-scraping/restaurants/2.html\n",
      "Processing.. https://pages.git.generalassemb.ly/rldaggie/for-scraping/restaurants/3.html\n",
      "Processing.. https://pages.git.generalassemb.ly/rldaggie/for-scraping/restaurants/4.html\n",
      "Processing.. https://pages.git.generalassemb.ly/rldaggie/for-scraping/restaurants/5.html\n",
      "Processing.. https://pages.git.generalassemb.ly/rldaggie/for-scraping/restaurants/6.html\n",
      "Processing.. https://pages.git.generalassemb.ly/rldaggie/for-scraping/restaurants/7.html\n",
      "Processing.. https://pages.git.generalassemb.ly/rldaggie/for-scraping/restaurants/8.html\n",
      "Processing.. https://pages.git.generalassemb.ly/rldaggie/for-scraping/restaurants/9.html\n",
      "Processing.. https://pages.git.generalassemb.ly/rldaggie/for-scraping/restaurants/10.html\n",
      "Processing.. https://pages.git.generalassemb.ly/rldaggie/for-scraping/restaurants/11.html\n",
      "Processing.. https://pages.git.generalassemb.ly/rldaggie/for-scraping/restaurants/12.html\n",
      "Processing.. https://pages.git.generalassemb.ly/rldaggie/for-scraping/restaurants/13.html\n",
      "Processing.. https://pages.git.generalassemb.ly/rldaggie/for-scraping/restaurants/14.html\n",
      "Processing.. https://pages.git.generalassemb.ly/rldaggie/for-scraping/restaurants/15.html\n",
      "Processing.. https://pages.git.generalassemb.ly/rldaggie/for-scraping/restaurants/16.html\n",
      "Processing.. https://pages.git.generalassemb.ly/rldaggie/for-scraping/restaurants/17.html\n",
      "Processing.. https://pages.git.generalassemb.ly/rldaggie/for-scraping/restaurants/18.html\n",
      "Processing.. https://pages.git.generalassemb.ly/rldaggie/for-scraping/restaurants/19.html\n",
      "Processing.. https://pages.git.generalassemb.ly/rldaggie/for-scraping/restaurants/20.html\n",
      "Processing.. https://pages.git.generalassemb.ly/rldaggie/for-scraping/restaurants/21.html\n",
      "Processing.. https://pages.git.generalassemb.ly/rldaggie/for-scraping/restaurants/22.html\n",
      "Processing.. https://pages.git.generalassemb.ly/rldaggie/for-scraping/restaurants/23.html\n",
      "Processing.. https://pages.git.generalassemb.ly/rldaggie/for-scraping/restaurants/24.html\n",
      "Processing.. https://pages.git.generalassemb.ly/rldaggie/for-scraping/restaurants/25.html\n",
      "Processing.. https://pages.git.generalassemb.ly/rldaggie/for-scraping/restaurants/26.html\n",
      "Processing.. https://pages.git.generalassemb.ly/rldaggie/for-scraping/restaurants/27.html\n",
      "Processing.. https://pages.git.generalassemb.ly/rldaggie/for-scraping/restaurants/28.html\n",
      "Processing.. https://pages.git.generalassemb.ly/rldaggie/for-scraping/restaurants/29.html\n",
      "Processing.. https://pages.git.generalassemb.ly/rldaggie/for-scraping/restaurants/30.html\n",
      "Processing.. https://pages.git.generalassemb.ly/rldaggie/for-scraping/restaurants/31.html\n",
      "Processing.. https://pages.git.generalassemb.ly/rldaggie/for-scraping/restaurants/32.html\n",
      "Processing.. https://pages.git.generalassemb.ly/rldaggie/for-scraping/restaurants/33.html\n",
      "Processing.. https://pages.git.generalassemb.ly/rldaggie/for-scraping/restaurants/34.html\n",
      "Processing.. https://pages.git.generalassemb.ly/rldaggie/for-scraping/restaurants/35.html\n",
      "Processing.. https://pages.git.generalassemb.ly/rldaggie/for-scraping/restaurants/36.html\n",
      "Processing.. https://pages.git.generalassemb.ly/rldaggie/for-scraping/restaurants/37.html\n",
      "Processing.. https://pages.git.generalassemb.ly/rldaggie/for-scraping/restaurants/38.html\n",
      "Processing.. https://pages.git.generalassemb.ly/rldaggie/for-scraping/restaurants/39.html\n",
      "Processing.. https://pages.git.generalassemb.ly/rldaggie/for-scraping/restaurants/40.html\n",
      "Processing.. https://pages.git.generalassemb.ly/rldaggie/for-scraping/restaurants/41.html\n",
      "Processing.. https://pages.git.generalassemb.ly/rldaggie/for-scraping/restaurants/42.html\n",
      "Processing.. https://pages.git.generalassemb.ly/rldaggie/for-scraping/restaurants/43.html\n",
      "Processing.. https://pages.git.generalassemb.ly/rldaggie/for-scraping/restaurants/44.html\n"
     ]
    }
   ],
   "source": [
    "main_soup = BeautifulSoup(req_main.text, 'lxml')\n",
    "all_tds = main_soup.find_all('td')\n",
    "for td in all_tds:\n",
    "    a = td.find('a')    \n",
    "    if a:\n",
    "        nested_url = ga_url + a[\"href\"]\n",
    "        get_menu(nested_url, a.text)"
   ]
  },
  {
   "cell_type": "code",
   "execution_count": 110,
   "metadata": {},
   "outputs": [],
   "source": [
    "df = pd.DataFrame(foods)"
   ]
  },
  {
   "cell_type": "code",
   "execution_count": 111,
   "metadata": {},
   "outputs": [
    {
     "data": {
      "text/html": [
       "<div>\n",
       "<style scoped>\n",
       "    .dataframe tbody tr th:only-of-type {\n",
       "        vertical-align: middle;\n",
       "    }\n",
       "\n",
       "    .dataframe tbody tr th {\n",
       "        vertical-align: top;\n",
       "    }\n",
       "\n",
       "    .dataframe thead th {\n",
       "        text-align: right;\n",
       "    }\n",
       "</style>\n",
       "<table border=\"1\" class=\"dataframe\">\n",
       "  <thead>\n",
       "    <tr style=\"text-align: right;\">\n",
       "      <th></th>\n",
       "      <th>restaurant</th>\n",
       "      <th>name</th>\n",
       "      <th>category</th>\n",
       "      <th>calories</th>\n",
       "      <th>fats</th>\n",
       "      <th>carbs</th>\n",
       "    </tr>\n",
       "  </thead>\n",
       "  <tbody>\n",
       "    <tr>\n",
       "      <th>0</th>\n",
       "      <td>A&amp;W Restaurants</td>\n",
       "      <td>Original Bacon Double Cheeseburger</td>\n",
       "      <td>Burgers</td>\n",
       "      <td>760</td>\n",
       "      <td>45</td>\n",
       "      <td>45</td>\n",
       "    </tr>\n",
       "    <tr>\n",
       "      <th>1</th>\n",
       "      <td>A&amp;W Restaurants</td>\n",
       "      <td>Coney (Chili) Dog</td>\n",
       "      <td>Entrees</td>\n",
       "      <td>340</td>\n",
       "      <td>20</td>\n",
       "      <td>26</td>\n",
       "    </tr>\n",
       "    <tr>\n",
       "      <th>2</th>\n",
       "      <td>A&amp;W Restaurants</td>\n",
       "      <td>Chili Fries</td>\n",
       "      <td>French Fries</td>\n",
       "      <td>370</td>\n",
       "      <td>15</td>\n",
       "      <td>49</td>\n",
       "    </tr>\n",
       "    <tr>\n",
       "      <th>3</th>\n",
       "      <td>A&amp;W Restaurants</td>\n",
       "      <td>Strawberry Milkshake (small)</td>\n",
       "      <td>Shakes</td>\n",
       "      <td>670</td>\n",
       "      <td>29</td>\n",
       "      <td>90</td>\n",
       "    </tr>\n",
       "    <tr>\n",
       "      <th>4</th>\n",
       "      <td>A&amp;W Restaurants</td>\n",
       "      <td>A&amp;WÂ® Root Beer Freeze (large)</td>\n",
       "      <td>Shakes</td>\n",
       "      <td>820</td>\n",
       "      <td>18</td>\n",
       "      <td>150</td>\n",
       "    </tr>\n",
       "  </tbody>\n",
       "</table>\n",
       "</div>"
      ],
      "text/plain": [
       "        restaurant                                name      category calories  \\\n",
       "0  A&W Restaurants  Original Bacon Double Cheeseburger       Burgers      760   \n",
       "1  A&W Restaurants                   Coney (Chili) Dog       Entrees      340   \n",
       "2  A&W Restaurants                         Chili Fries  French Fries      370   \n",
       "3  A&W Restaurants        Strawberry Milkshake (small)        Shakes      670   \n",
       "4  A&W Restaurants      A&WÂ® Root Beer Freeze (large)        Shakes      820   \n",
       "\n",
       "  fats carbs  \n",
       "0   45    45  \n",
       "1   20    26  \n",
       "2   15    49  \n",
       "3   29    90  \n",
       "4   18   150  "
      ]
     },
     "execution_count": 111,
     "metadata": {},
     "output_type": "execute_result"
    }
   ],
   "source": [
    "df.head()"
   ]
  },
  {
   "cell_type": "markdown",
   "metadata": {},
   "source": [
    "### Step 5: Export to csv\n",
    "\n",
    "**Note:** Don't export the index column from your DataFrame"
   ]
  },
  {
   "cell_type": "code",
   "execution_count": 112,
   "metadata": {},
   "outputs": [],
   "source": [
    "df.to_csv(\"restaurant.menu.csv\", index=False)"
   ]
  },
  {
   "cell_type": "code",
   "execution_count": null,
   "metadata": {},
   "outputs": [],
   "source": []
  }
 ],
 "metadata": {
  "kernelspec": {
   "display_name": "Python 3",
   "language": "python",
   "name": "python3"
  },
  "language_info": {
   "codemirror_mode": {
    "name": "ipython",
    "version": 3
   },
   "file_extension": ".py",
   "mimetype": "text/x-python",
   "name": "python",
   "nbconvert_exporter": "python",
   "pygments_lexer": "ipython3",
   "version": "3.8.8"
  }
 },
 "nbformat": 4,
 "nbformat_minor": 2
}
